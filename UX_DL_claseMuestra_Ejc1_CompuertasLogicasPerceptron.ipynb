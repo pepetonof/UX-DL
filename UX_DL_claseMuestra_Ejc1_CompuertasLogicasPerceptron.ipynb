{
  "nbformat": 4,
  "nbformat_minor": 0,
  "metadata": {
    "colab": {
      "provenance": [],
      "authorship_tag": "ABX9TyM50zR+w6PqM5M8nlBcWghM",
      "include_colab_link": true
    },
    "kernelspec": {
      "name": "python3",
      "display_name": "Python 3"
    },
    "language_info": {
      "name": "python"
    }
  },
  "cells": [
    {
      "cell_type": "markdown",
      "metadata": {
        "id": "view-in-github",
        "colab_type": "text"
      },
      "source": [
        "<a href=\"https://colab.research.google.com/github/pepetonof/UX-DL/blob/main/UX_DL_claseMuestra_Ejc1_CompuertasLogicasPerceptron.ipynb\" target=\"_parent\"><img src=\"https://colab.research.google.com/assets/colab-badge.svg\" alt=\"Open In Colab\"/></a>"
      ]
    },
    {
      "cell_type": "code",
      "execution_count": 1,
      "metadata": {
        "id": "YGu-V97UFSy3"
      },
      "outputs": [],
      "source": [
        "import matplotlib.pyplot as plt\n",
        "import numpy as np\n",
        "from sklearn.datasets import make_classification\n",
        "from sklearn.preprocessing import MinMaxScaler"
      ]
    },
    {
      "cell_type": "code",
      "source": [
        "X = np.array([[0, 0], [0, 1], [1, 0], [1, 1]])\n",
        "y = np.array([0, 0, 0, 1])  # Salida esperada AND\n",
        "\n",
        "plt.scatter(X[:,0], X[:,1], c = y)\n",
        "plt.show()"
      ],
      "metadata": {
        "colab": {
          "base_uri": "https://localhost:8080/",
          "height": 430
        },
        "id": "Q6-m0qtxFfEA",
        "outputId": "0bc44e5f-0fd2-48e0-901c-059b05fedd9e"
      },
      "execution_count": 2,
      "outputs": [
        {
          "output_type": "display_data",
          "data": {
            "text/plain": [
              "<Figure size 640x480 with 1 Axes>"
            ],
            "image/png": "[encoded data removed]"
          },
          "metadata": {}
        }
      ]
    },
    {
      "cell_type": "code",
      "source": [
        "X = np.array([[0, 0], [0, 1], [1, 0], [1, 1]])\n",
        "y = np.array([0, 1, 1, 0])  # Salida esperada XOR\n",
        "\n",
        "plt.scatter(X[:,0], X[:,1], c = y)\n",
        "plt.show()"
      ],
      "metadata": {
        "id": "vswPneUXFWM3"
      },
      "execution_count": null,
      "outputs": []
    },
    {
      "cell_type": "code",
      "source": [
        "X, y = make_classification(\n",
        "    n_samples = 200,\n",
        "    n_features = 2,\n",
        "    n_informative = 2,\n",
        "    n_redundant = 0,\n",
        "    n_classes = 2,\n",
        "    flip_y = 0,\n",
        "    n_clusters_per_class = 1,\n",
        "    class_sep = 0.5\n",
        ")\n",
        "\n",
        "X = MinMaxScaler().fit_transform(X)\n",
        "\n",
        "plt.scatter(X[:,0], X[:,1], c = y)\n",
        "plt.show()"
      ],
      "metadata": {
        "id": "TFycg4FSFmeR"
      },
      "execution_count": null,
      "outputs": []
    },
    {
      "cell_type": "code",
      "source": [
        "from sklearn.inspection import DecisionBoundaryDisplay\n",
        "from sklearn.metrics import accuracy_score\n",
        "\n",
        "def perceptron_lr(Xtr, ytr, epochs = 100, w = None):\n",
        "    rows = Xtr.shape[0]\n",
        "    dim = Xtr.shape[1] + 1\n",
        "    ext = np.ones((rows, 1))\n",
        "    eXtr = np.hstack((Xtr, ext))\n",
        "    w = np.random.uniform(low = 0, high = 1, size = dim) if w is None else w\n",
        "\n",
        "    for it in range(epochs):\n",
        "        ord = np.random.choice(a = range(rows), size = rows, replace = False)\n",
        "        chng = 0\n",
        "        for o in ord:\n",
        "            dp = np.dot(eXtr[o], w)\n",
        "            if ytr[o] == 1 and dp <= 0:\n",
        "                chng += 1\n",
        "                w += eXtr[o]\n",
        "            elif ytr[o] == 0 and dp >= 0:\n",
        "                chng += 1\n",
        "                w -= eXtr[o]\n",
        "        if chng == 0:\n",
        "            break\n",
        "    return w\n",
        "\n",
        "def perceptron(X, w):\n",
        "    rows = X.shape[0]\n",
        "    ext = np.ones((rows, 1))\n",
        "    eX = np.hstack((X, ext))\n",
        "    y_hat = np.zeros(rows)\n",
        "\n",
        "    for i, x in enumerate(eX):\n",
        "        y_hat[i] = 1 if np.dot(x, w) >= 0 else 0\n",
        "\n",
        "    return y_hat\n",
        "\n",
        "w = perceptron_lr(X, y)\n",
        "\n",
        "print('Exactitud {}'.format(accuracy_score(y, perceptron(X,w))))\n",
        "\n",
        "def plot_perceptron_boundary_dec(w, X, y):\n",
        "    feature_1, feature_2 = np.meshgrid(\n",
        "        np.linspace(0, 1),\n",
        "        np.linspace(0, 1))\n",
        "\n",
        "    grid = np.vstack([feature_1.ravel(), feature_2.ravel()]).T\n",
        "\n",
        "    pred = perceptron(grid, w)\n",
        "    pred = np.reshape(pred, feature_1.shape)\n",
        "    display = DecisionBoundaryDisplay(\n",
        "        xx0=feature_1, xx1=feature_2, response=pred)\n",
        "    display.plot()\n",
        "    display.ax_.scatter(\n",
        "        X[:, 0], X[:, 1], c=y, edgecolor=\"black\"\n",
        "    )\n",
        "    plt.show()\n",
        "\n",
        "plot_perceptron_boundary_dec(w, X, y)"
      ],
      "metadata": {
        "colab": {
          "base_uri": "https://localhost:8080/",
          "height": 452
        },
        "id": "CcKseGudFnYP",
        "outputId": "c82d507a-2d5d-4880-bc81-c85ca1326823"
      },
      "execution_count": 3,
      "outputs": [
        {
          "output_type": "stream",
          "name": "stdout",
          "text": [
            "Exactitud 1.0\n"
          ]
        },
        {
          "output_type": "display_data",
          "data": {
            "text/plain": [
              "<Figure size 640x480 with 1 Axes>"
            ],
            "image/png": "[encoded data removed]"
          },
          "metadata": {}
        }
      ]
    }
  ]
}